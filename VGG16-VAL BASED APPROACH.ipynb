{
 "cells": [
  {
   "cell_type": "code",
   "execution_count": 2,
   "metadata": {},
   "outputs": [
    {
     "name": "stdout",
     "output_type": "stream",
     "text": [
      "Found 8863 images belonging to 2 classes.\n",
      "Found 600 images belonging to 2 classes.\n",
      "Train Images Shape: (8863, 224, 224, 3)\n",
      "Train Labels Shape: (8863,)\n"
     ]
    }
   ],
   "source": [
    "from tensorflow.keras.preprocessing.image import ImageDataGenerator\n",
    "import numpy as np\n",
    "from sklearn.model_selection import train_test_split\n",
    "\n",
    "# Image dimensions\n",
    "img_height, img_width = 224, 224\n",
    "\n",
    "\n",
    "train_dir = r\"C:\\Users\\Admin\\Downloads\\BoneFractureDataset\\training\"\n",
    "test_dir = r\"C:\\Users\\Admin\\Downloads\\BoneFractureDataset\\testing\"\n",
    "\n",
    "# Initialize ImageDataGenerator\n",
    "train_datagen = ImageDataGenerator(rescale=1.0/255)\n",
    "test_datagen = ImageDataGenerator(rescale=1.0/255)\n",
    "\n",
    "# Load training data from 'dataset/train' directory\n",
    "train_generator = train_datagen.flow_from_directory(\n",
    "    train_dir,\n",
    "    target_size=(img_height, img_width),\n",
    "    batch_size=32,\n",
    "    class_mode='binary',\n",
    "    shuffle=True\n",
    ")\n",
    "\n",
    "# Load test data from 'dataset/test' directory\n",
    "test_generator = test_datagen.flow_from_directory(\n",
    "    test_dir,\n",
    "    target_size=(img_height, img_width),\n",
    "    batch_size=32,\n",
    "    class_mode='binary',\n",
    "    shuffle=False\n",
    ")\n",
    "\n",
    "# Extract features and labels from the train generator\n",
    "train_images, train_labels = next(train_generator)\n",
    "for i in range(len(train_generator) - 1):\n",
    "    img_batch, lbl_batch = next(train_generator)\n",
    "    train_images = np.concatenate((train_images, img_batch), axis=0)\n",
    "    train_labels = np.concatenate((train_labels, lbl_batch), axis=0)\n",
    "\n",
    "# Display the shape of extracted data\n",
    "print(f\"Train Images Shape: {train_images.shape}\")\n",
    "print(f\"Train Labels Shape: {train_labels.shape}\")\n"
   ]
  },
  {
   "cell_type": "code",
   "execution_count": 3,
   "metadata": {},
   "outputs": [
    {
     "name": "stdout",
     "output_type": "stream",
     "text": [
      "X_train Shape: (7090, 224, 224, 3), y_train Shape: (7090,)\n",
      "X_val Shape: (1773, 224, 224, 3), y_val Shape: (1773,)\n"
     ]
    }
   ],
   "source": [
    "# Split the train data into training and validation sets\n",
    "X_train, X_val, y_train, y_val = train_test_split(\n",
    "    train_images, train_labels, \n",
    "    test_size=0.2,              # here 20% of data will be used for validation\n",
    "    random_state=42, \n",
    "    stratify=train_labels\n",
    ")\n",
    "\n",
    "print(f\"X_train Shape: {X_train.shape}, y_train Shape: {y_train.shape}\")\n",
    "print(f\"X_val Shape: {X_val.shape}, y_val Shape: {y_val.shape}\")"
   ]
  },
  {
   "cell_type": "code",
   "execution_count": 4,
   "metadata": {},
   "outputs": [
    {
     "name": "stdout",
     "output_type": "stream",
     "text": [
      "\u001b[1m222/222\u001b[0m \u001b[32m━━━━━━━━━━━━━━━━━━━━\u001b[0m\u001b[37m\u001b[0m \u001b[1m1844s\u001b[0m 8s/step\n",
      "\u001b[1m56/56\u001b[0m \u001b[32m━━━━━━━━━━━━━━━━━━━━\u001b[0m\u001b[37m\u001b[0m \u001b[1m254s\u001b[0m 4s/step\n"
     ]
    },
    {
     "name": "stderr",
     "output_type": "stream",
     "text": [
      "C:\\Users\\Admin\\AppData\\Roaming\\Python\\Python312\\site-packages\\keras\\src\\trainers\\data_adapters\\py_dataset_adapter.py:121: UserWarning: Your `PyDataset` class should call `super().__init__(**kwargs)` in its constructor. `**kwargs` can include `workers`, `use_multiprocessing`, `max_queue_size`. Do not pass these arguments to `fit()`, as they will be ignored.\n",
      "  self._warn_if_super_not_called()\n"
     ]
    },
    {
     "name": "stdout",
     "output_type": "stream",
     "text": [
      "\u001b[1m19/19\u001b[0m \u001b[32m━━━━━━━━━━━━━━━━━━━━\u001b[0m\u001b[37m\u001b[0m \u001b[1m85s\u001b[0m 4s/step\n",
      "Train Features Shape: (7090, 25088)\n",
      "Validation Features Shape: (1773, 25088)\n",
      "Test Features Shape: (600, 25088)\n"
     ]
    }
   ],
   "source": [
    "from tensorflow.keras.applications import VGG16\n",
    "from tensorflow.keras.models import Model\n",
    "\n",
    "# Load VGG16 model + higher level layers\n",
    "vgg_base = VGG16(weights='imagenet', include_top=False, input_shape=(img_height, img_width, 3))\n",
    "vgg_model = Model(inputs=vgg_base.input, outputs=vgg_base.output)\n",
    "\n",
    "# Extract VGG16 features\n",
    "train_features_vgg = vgg_model.predict(X_train, verbose=1)\n",
    "val_features_vgg = vgg_model.predict(X_val, verbose=1)\n",
    "test_features_vgg = vgg_model.predict(test_generator, verbose=1)\n",
    "\n",
    "# Flatten the VGG16 features\n",
    "train_features_vgg = train_features_vgg.reshape(train_features_vgg.shape[0], -1)\n",
    "val_features_vgg = val_features_vgg.reshape(val_features_vgg.shape[0], -1)\n",
    "test_features_vgg = test_features_vgg.reshape(test_features_vgg.shape[0], -1)\n",
    "\n",
    "print(f\"Train Features Shape: {train_features_vgg.shape}\")\n",
    "print(f\"Validation Features Shape: {val_features_vgg.shape}\")\n",
    "print(f\"Test Features Shape: {test_features_vgg.shape}\")\n"
   ]
  },
  {
   "cell_type": "code",
   "execution_count": 8,
   "metadata": {},
   "outputs": [
    {
     "name": "stdout",
     "output_type": "stream",
     "text": [
      "(7090,)\n"
     ]
    }
   ],
   "source": [
    "print(y_train.shape)\n"
   ]
  },
  {
   "cell_type": "code",
   "execution_count": 11,
   "metadata": {},
   "outputs": [
    {
     "name": "stdout",
     "output_type": "stream",
     "text": [
      "Logistic Regression Validation Accuracy: 99.77%\n",
      "KNN Validation Accuracy: 99.32%\n"
     ]
    }
   ],
   "source": [
    "from sklearn.linear_model import LogisticRegression\n",
    "from sklearn.svm import SVC\n",
    "from sklearn.neighbors import KNeighborsClassifier\n",
    "from sklearn.metrics import accuracy_score, classification_report\n",
    "\n",
    "# Logistic Regression\n",
    "lr = LogisticRegression(max_iter=1000)\n",
    "lr.fit(train_features_vgg, y_train)\n",
    "y_pred_lr = lr.predict(val_features_vgg)\n",
    "print(f\"Logistic Regression Validation Accuracy: {accuracy_score(y_val, y_pred_lr) * 100:.2f}%\")\n",
    "\n",
    "\n",
    "# KNN\n",
    "knn = KNeighborsClassifier(n_neighbors=5)\n",
    "knn.fit(train_features_vgg, y_train)\n",
    "y_pred_knn = knn.predict(val_features_vgg)\n",
    "print(f\"KNN Validation Accuracy: {accuracy_score(y_val, y_pred_knn) * 100:.2f}%\")\n"
   ]
  },
  {
   "cell_type": "code",
   "execution_count": 14,
   "metadata": {},
   "outputs": [
    {
     "name": "stdout",
     "output_type": "stream",
     "text": [
      "Decision Tree (VGG16) Test Accuracy: 93.91%\n"
     ]
    }
   ],
   "source": [
    "from sklearn.tree import DecisionTreeClassifier\n",
    "\n",
    "dt = DecisionTreeClassifier(random_state=42)\n",
    "dt.fit(train_features_vgg, y_train)\n",
    "predictions_dt_vgg = dt.predict(val_features_vgg)\n",
    "accuracy_dt_vgg = accuracy_score(y_val, predictions_dt_vgg)\n",
    "print(f\"Decision Tree (VGG16) Test Accuracy: {accuracy_dt_vgg * 100:.2f}%\")"
   ]
  },
  {
   "cell_type": "code",
   "execution_count": 15,
   "metadata": {},
   "outputs": [
    {
     "data": {
      "image/png": "[encoded data removed]",
      "text/plain": [
       "<Figure size 640x480 with 2 Axes>"
      ]
     },
     "metadata": {},
     "output_type": "display_data"
    }
   ],
   "source": [
    "import matplotlib.pyplot as plt\n",
    "from sklearn.metrics import confusion_matrix, ConfusionMatrixDisplay\n",
    "\n",
    "# Confusion Matrix for Logistic Regression # for val data\n",
    "cm = confusion_matrix(y_val, y_pred_lr)\n",
    "disp = ConfusionMatrixDisplay(confusion_matrix=cm)\n",
    "disp.plot(cmap='Blues')\n",
    "plt.title('Confusion Matrix - Logistic Regression')\n",
    "plt.show()\n",
    "\n"
   ]
  },
  {
   "cell_type": "code",
   "execution_count": 18,
   "metadata": {},
   "outputs": [
    {
     "data": {
      "image/png": "[encoded data removed]",
      "text/plain": [
       "<Figure size 640x480 with 2 Axes>"
      ]
     },
     "metadata": {},
     "output_type": "display_data"
    }
   ],
   "source": [
    "cm = confusion_matrix(y_val, predictions_dt_vgg)\n",
    "disp = ConfusionMatrixDisplay(confusion_matrix=cm)\n",
    "disp.plot(cmap='Blues')\n",
    "plt.title('Confusion Matrix - DEcision tree')\n",
    "plt.show()"
   ]
  },
  {
   "cell_type": "code",
   "execution_count": 19,
   "metadata": {},
   "outputs": [],
   "source": [
    "import numpy as np\n",
    "import matplotlib.pyplot as plt\n",
    "from tensorflow.keras.preprocessing.image import load_img, img_to_array\n",
    "from sklearn.metrics import accuracy_score\n"
   ]
  },
  {
   "cell_type": "code",
   "execution_count": 20,
   "metadata": {},
   "outputs": [],
   "source": [
    "def preprocess_image(image_path, target_size=(224, 224)):\n",
    "    # Load the image\n",
    "    img = load_img(image_path, target_size=target_size)\n",
    "    \n",
    "    # Convert the image to a numpy array\n",
    "    img_array = img_to_array(img)\n",
    "    \n",
    "    # Normalize the image (assuming your model expects pixel values in [0, 1])\n",
    "    img_array = img_array / 255.0\n",
    "    \n",
    "    # Add batch dimension (1, height, width, channels)\n",
    "    img_array = np.expand_dims(img_array, axis=0)\n",
    "    \n",
    "    return img_array\n"
   ]
  },
  {
   "cell_type": "code",
   "execution_count": 32,
   "metadata": {},
   "outputs": [],
   "source": [
    "test2 = r\"C:\\Users\\Admin\\Downloads\\BoneFractureDataset\\testing\\not_fractured\\3.jpg\"\n",
    "\n",
    "test2_image = preprocess_image(test2)\n",
    "# Reshape the test image to 2D (batch_size, num_features)\n",
    "test2_image_flattened = test2_image.reshape(1, -1)"
   ]
  },
  {
   "cell_type": "code",
   "execution_count": null,
   "metadata": {},
   "outputs": [],
   "source": [
    "# Path to your test image\n",
    "test_image_path = r\"C:\\Users\\Admin\\Downloads\\BoneFractureDataset\\testing\\fractured\\9.jpg\"\n",
    "\n",
    "# Preprocess the image\n",
    "test_image = preprocess_image(test_image_path)\n",
    "# Reshape the test image to 2D (batch_size, num_features)\n",
    "test_image_flattened = test_image.reshape(1, -1)\n"
   ]
  },
  {
   "cell_type": "code",
   "execution_count": 33,
   "metadata": {},
   "outputs": [
    {
     "name": "stdout",
     "output_type": "stream",
     "text": [
      "\u001b[1m1/1\u001b[0m \u001b[32m━━━━━━━━━━━━━━━━━━━━\u001b[0m\u001b[37m\u001b[0m \u001b[1m0s\u001b[0m 253ms/step\n",
      "\u001b[1m1/1\u001b[0m \u001b[32m━━━━━━━━━━━━━━━━━━━━\u001b[0m\u001b[37m\u001b[0m \u001b[1m0s\u001b[0m 347ms/step\n"
     ]
    }
   ],
   "source": [
    "test_image_features = vgg_model.predict(test_image, verbose=1)\n",
    "test2_image_features = vgg_model.predict(test2_image, verbose=1)"
   ]
  },
  {
   "cell_type": "code",
   "execution_count": 28,
   "metadata": {},
   "outputs": [
    {
     "name": "stdout",
     "output_type": "stream",
     "text": [
      "Predicted Class: 0\n"
     ]
    }
   ],
   "source": [
    "# Predict using the trained model\n",
    "test_image_features_flattened = test_image_features.flatten().reshape(1, -1)\n",
    "prediction = lr.predict(test_image_features_flattened)\n",
    "\n",
    "# If you are using a softmax output or probabilities\n",
    "predicted_class = np.argmax(prediction)\n",
    "print(f\"Predicted Class: {predicted_class}\")"
   ]
  },
  {
   "cell_type": "code",
   "execution_count": 46,
   "metadata": {},
   "outputs": [
    {
     "name": "stdout",
     "output_type": "stream",
     "text": [
      "Predicted Class: 0\n"
     ]
    }
   ],
   "source": [
    "# Predict using the trained model\n",
    "test2_image_features_flattened = test2_image_features.flatten().reshape(1, -1)\n",
    "prediction2 = lr.predict(test2_image_features_flattened)\n",
    "\n",
    "# If you are using a softmax output or probabilities\n",
    "predicted_class2 = np.argmax(prediction2)\n",
    "print(f\"Predicted Class: {predicted_class2}\")"
   ]
  },
  {
   "cell_type": "code",
   "execution_count": 29,
   "metadata": {},
   "outputs": [
    {
     "name": "stdout",
     "output_type": "stream",
     "text": [
      "[0. 1.]\n"
     ]
    }
   ],
   "source": [
    "from sklearn.preprocessing import LabelEncoder\n",
    "\n",
    "# Fit LabelEncoder on your labels (y_train)\n",
    "label_encoder = LabelEncoder()\n",
    "label_encoder.fit(y_train)\n",
    "\n",
    "# To see the label mapping\n",
    "print(label_encoder.classes_)"
   ]
  },
  {
   "cell_type": "code",
   "execution_count": 30,
   "metadata": {},
   "outputs": [
    {
     "name": "stdout",
     "output_type": "stream",
     "text": [
      "[1. 1. 1. 0. 1. 0. 1. 1. 0. 0.]\n"
     ]
    }
   ],
   "source": [
    "# Check the first few rows of your dataset and see what the labels are\n",
    "print(y_train[:10])  # Check first 10 training labels\n"
   ]
  },
  {
   "cell_type": "code",
   "execution_count": 42,
   "metadata": {},
   "outputs": [
    {
     "name": "stdout",
     "output_type": "stream",
     "text": [
      "Found 600 images belonging to 2 classes.\n",
      "\u001b[1m1/1\u001b[0m \u001b[32m━━━━━━━━━━━━━━━━━━━━\u001b[0m\u001b[37m\u001b[0m \u001b[1m1s\u001b[0m 1s/step\n",
      "[0. 0. 0. 0. 0. 0. 0. 0. 0. 0.]\n"
     ]
    }
   ],
   "source": [
    "test_generator2 = test_datagen.flow_from_directory(\n",
    "    test_dir,\n",
    "    target_size=(224, 224),  \n",
    "    batch_size=10,  # Limit to 10 images toa void multi dim error\n",
    "    class_mode='binary',  \n",
    "    shuffle=False  \n",
    ")\n",
    "#Get features for the batch of images\n",
    "X_batch, y_batch = next(test_generator)\n",
    "\n",
    "# Extract features (the CNN output)\n",
    "features =vgg_model.predict(X_batch)\n",
    "\n",
    "# Flatten the features to match the input shape expected by Logistic Regression\n",
    "X_batch_flattened = features.reshape(features.shape[0], -1)\n",
    "\n",
    "# Assuming you have already trained your Logistic Regression model (lr)\n",
    "# Predict using the logistic regression model\n",
    "predictions = lr.predict(X_batch_flattened)\n",
    "\n",
    "# Print the predictions\n",
    "print(predictions)"
   ]
  },
  {
   "cell_type": "code",
   "execution_count": 43,
   "metadata": {},
   "outputs": [
    {
     "name": "stdout",
     "output_type": "stream",
     "text": [
      "Image: fractured\\1-rotated1-rotated1-rotated1.jpg, Predicted Class: 0.0\n",
      "Image: fractured\\1-rotated1-rotated1-rotated2.jpg, Predicted Class: 0.0\n",
      "Image: fractured\\1-rotated1-rotated1-rotated3.jpg, Predicted Class: 0.0\n",
      "Image: fractured\\1-rotated1-rotated1.jpg, Predicted Class: 0.0\n",
      "Image: fractured\\1-rotated1-rotated2-rotated1.jpg, Predicted Class: 0.0\n",
      "Image: fractured\\1-rotated1-rotated2-rotated2.jpg, Predicted Class: 0.0\n",
      "Image: fractured\\1-rotated1-rotated2-rotated3.jpg, Predicted Class: 0.0\n",
      "Image: fractured\\1-rotated1-rotated2.jpg, Predicted Class: 0.0\n",
      "Image: fractured\\1-rotated1-rotated3-rotated1.jpg, Predicted Class: 0.0\n",
      "Image: fractured\\1-rotated1-rotated3-rotated2.jpg, Predicted Class: 0.0\n"
     ]
    }
   ],
   "source": [
    "for i, filename in enumerate(test_generator.filenames[:10]):  # Adjust this if you want more images\n",
    "    predicted_class = predictions[i]  # This will give the predicted class for each image\n",
    "    print(f\"Image: {filename}, Predicted Class: {predicted_class}\")"
   ]
  },
  {
   "cell_type": "code",
   "execution_count": null,
   "metadata": {},
   "outputs": [],
   "source": [
    "#Understood that 0 is for fracture and 1 is for not a  fracture"
   ]
  }
 ],
 "metadata": {
  "kernelspec": {
   "display_name": "Python 3",
   "language": "python",
   "name": "python3"
  },
  "language_info": {
   "codemirror_mode": {
    "name": "ipython",
    "version": 3
   },
   "file_extension": ".py",
   "mimetype": "text/x-python",
   "name": "python",
   "nbconvert_exporter": "python",
   "pygments_lexer": "ipython3",
   "version": "3.12.3"
  }
 },
 "nbformat": 4,
 "nbformat_minor": 2
}
